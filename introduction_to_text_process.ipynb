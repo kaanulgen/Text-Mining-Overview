{
 "cells": [
  {
   "cell_type": "code",
   "execution_count": 1,
   "metadata": {
    "collapsed": false
   },
   "outputs": [
    {
     "name": "stdout",
     "output_type": "stream",
     "text": [
      "['The future is constantly, unremittingly, and obtrusively here.', 'It can’t stop.', 'It’s happening all the time.', 'It’s happening to you right now.Go outside and take a look.', 'Good, now come back.', 'Are you back?', 'Please tell me your back.']\n"
     ]
    }
   ],
   "source": [
    "# Sentence Tokenizing\n",
    "import nltk\n",
    "from nltk.tokenize import sent_tokenize\n",
    "\n",
    "text = \"The future is constantly, unremittingly, and obtrusively here. It can’t stop. It’s happening all the time. It’s happening to you right now.Go outside and take a look. Good, now come back. Are you back? Please tell me your back.\"\n",
    "\n",
    "sent_tokenize = sent_tokenize(text)\n",
    "print(sent_tokenize)"
   ]
  },
  {
   "cell_type": "code",
   "execution_count": 2,
   "metadata": {
    "collapsed": false
   },
   "outputs": [
    {
     "name": "stdout",
     "output_type": "stream",
     "text": [
      "['The', 'future', 'is', 'constantly', ',', 'unremittingly', ',', 'and', 'obtrusively', 'here', '.', 'It', 'can’t', 'stop', '.', 'It’s', 'happening', 'all', 'the', 'time', '.', 'It’s', 'happening', 'to', 'you', 'right', 'now.Go', 'outside', 'and', 'take', 'a', 'look', '.', 'Good', ',', 'now', 'come', 'back', '.', 'Are', 'you', 'back', '?', 'Please', 'tell', 'me', 'your', 'back', '.']\n"
     ]
    }
   ],
   "source": [
    "# Word Tokenizing\n",
    "\n",
    "from nltk.tokenize import word_tokenize\n",
    "print(word_tokenize(text))"
   ]
  },
  {
   "cell_type": "code",
   "execution_count": 3,
   "metadata": {
    "collapsed": false
   },
   "outputs": [
    {
     "name": "stdout",
     "output_type": "stream",
     "text": [
      "['The', 'future', 'is', 'constantly', ',', 'unremittingly', ',', 'and', 'obtrusively', 'here.', 'It', 'can’t', 'stop.', 'It’s', 'happening', 'all', 'the', 'time.', 'It’s', 'happening', 'to', 'you', 'right', 'now.Go', 'outside', 'and', 'take', 'a', 'look.', 'Good', ',', 'now', 'come', 'back.', 'Are', 'you', 'back', '?', 'Please', 'tell', 'me', 'your', 'back', '.']\n"
     ]
    }
   ],
   "source": [
    "# using TreebankWordTokenizer\n",
    "\n",
    "from nltk.tokenize import TreebankWordTokenizer\n",
    "tokinizer = TreebankWordTokenizer()\n",
    "print(tokinizer.tokenize(text))"
   ]
  },
  {
   "cell_type": "code",
   "execution_count": 4,
   "metadata": {
    "collapsed": false
   },
   "outputs": [
    {
     "name": "stdout",
     "output_type": "stream",
     "text": [
      "Removed numbers:  This is a sample English sentence, \n",
      " A Binary Number is made up of only s and s !\n"
     ]
    }
   ],
   "source": [
    "# Remove Numbers:\n",
    "import re\n",
    "\n",
    "def remove_numbers(text):\n",
    "    return re.sub(r'\\d+', '', text)\n",
    "\n",
    "text = 'This is a sample English sentence, \\n A Binary Number is made up of only 0s and 1s !'\n",
    "\n",
    "print(\"Removed numbers: \", remove_numbers(text))"
   ]
  },
  {
   "cell_type": "code",
   "execution_count": 5,
   "metadata": {
    "collapsed": false
   },
   "outputs": [
    {
     "name": "stdout",
     "output_type": "stream",
     "text": [
      "This is about punctuations\n"
     ]
    }
   ],
   "source": [
    "# Remove Punctuation:\n",
    "import string\n",
    "\n",
    "def remove_punctuation(text):\n",
    "    words = nltk.word_tokenize(text)\n",
    "    punt_removed = [w for w in words if w.lower() not in string.punctuation]\n",
    "    return \" \".join(punt_removed)\n",
    "\n",
    "print(remove_punctuation(\"This is about punctuations!?:;\"))"
   ]
  },
  {
   "cell_type": "code",
   "execution_count": 6,
   "metadata": {
    "collapsed": false
   },
   "outputs": [
    {
     "name": "stdout",
     "output_type": "stream",
     "text": [
      "back ? Please tell back .\n"
     ]
    }
   ],
   "source": [
    "# Stop words:\n",
    "\n",
    "from nltk.corpus import stopwords\n",
    "\n",
    "# Function to remove stop words\n",
    "\n",
    "def remove_stopwords(text, lang=\"english\"):\n",
    "    words = nltk.word_tokenize(text)\n",
    "    lang_stopwords = stopwords.words(lang)\n",
    "    stopwords_removed = [w for w in words if w.lower() not in lang_stopwords]\n",
    "    return \" \".join(stopwords_removed)\n",
    "\n",
    "print(remove_stopwords(\"Are you back? Please tell me your back.\"))"
   ]
  },
  {
   "cell_type": "code",
   "execution_count": 7,
   "metadata": {
    "collapsed": false
   },
   "outputs": [
    {
     "name": "stdout",
     "output_type": "stream",
     "text": [
      "This is a sample English sentence\n"
     ]
    }
   ],
   "source": [
    "#function to remove whitespace\n",
    "\n",
    "def removing_whitespace(text):\n",
    "    return \" \".join(text.split())\n",
    "\n",
    "text = \"This is a       sample English sentence\"\n",
    "print(removing_whitespace(text))"
   ]
  },
  {
   "cell_type": "code",
   "execution_count": 8,
   "metadata": {
    "collapsed": false
   },
   "outputs": [
    {
     "name": "stdout",
     "output_type": "stream",
     "text": [
      "[('The', 'DT'), ('fundamental', 'JJ'), ('force', 'NN'), ('of', 'IN'), ('attraction', 'NN'), ('that', 'IN'), ('all', 'DT'), ('objects', 'NNS'), ('with', 'IN'), ('mass', 'NN'), ('have', 'VBP'), ('for', 'IN'), ('each', 'DT'), ('other', 'JJ')]\n"
     ]
    }
   ],
   "source": [
    "# Part of Speech (PoS) Tagging\n",
    "import nltk\n",
    "from nltk import chunk\n",
    "tagged_sent = nltk.pos_tag(nltk.word_tokenize(\"The fundamental force of attraction that all objects with mass have for each other\"))\n",
    "print(tagged_sent)\n",
    "\n",
    "tree = chunk.ne_chunk(tagged_sent)\n",
    "tree.draw()"
   ]
  },
  {
   "cell_type": "code",
   "execution_count": 9,
   "metadata": {
    "collapsed": false
   },
   "outputs": [
    {
     "name": "stdout",
     "output_type": "stream",
     "text": [
      "[('This', 'DT'), ('is', 'VBZ'), ('a', 'DT'), ('sample', 'JJ'), ('English', 'JJ'), ('sentence', 'NN')]\n"
     ]
    }
   ],
   "source": [
    "# To use PerceptronTagger\n",
    "from nltk.tag.perceptron import PerceptronTagger\n",
    "PT = PerceptronTagger()\n",
    "print(PT.tag('This is a sample English sentence'.split()))"
   ]
  },
  {
   "cell_type": "code",
   "execution_count": null,
   "metadata": {
    "collapsed": true
   },
   "outputs": [],
   "source": []
  }
 ],
 "metadata": {
  "kernelspec": {
   "display_name": "Python 3",
   "language": "python",
   "name": "python3"
  },
  "language_info": {
   "codemirror_mode": {
    "name": "ipython",
    "version": 3
   },
   "file_extension": ".py",
   "mimetype": "text/x-python",
   "name": "python",
   "nbconvert_exporter": "python",
   "pygments_lexer": "ipython3",
   "version": "3.5.2"
  }
 },
 "nbformat": 4,
 "nbformat_minor": 2
}
